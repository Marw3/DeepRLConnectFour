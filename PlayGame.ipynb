{
 "cells": [
  {
   "cell_type": "markdown",
   "id": "5a432b55",
   "metadata": {},
   "source": [
    "## Play a game\n",
    "\n",
    "---\n",
    "\n",
    "> Internship neural networks\n",
    ">\n",
    "> Group 4: Reinforcement learning\n",
    ">\n",
    "> Deadline 28.02.23 23:59\n",
    "\n",
    "---"
   ]
  },
  {
   "cell_type": "code",
   "execution_count": 1,
   "id": "9b7557a5",
   "metadata": {},
   "outputs": [],
   "source": [
    "%run \"Environment/Connect4.ipynb\"\n",
    "%run \"OtherAgents/Agents.ipynb\"\n",
    "%run \"DecisionTransformer/DecisionTransformer.ipynb\"\n",
    "%run \"DQN/DQN.ipynb\"\n",
    "%run \"DQN/utils.ipynb\""
   ]
  },
  {
   "cell_type": "code",
   "execution_count": 2,
   "id": "acf2f704",
   "metadata": {},
   "outputs": [
    {
     "data": {
      "text/plain": [
       "<All keys matched successfully>"
      ]
     },
     "execution_count": 2,
     "metadata": {},
     "output_type": "execute_result"
    }
   ],
   "source": [
    "env = Connect4()\n",
    "device_name = 'cuda'\n",
    "device = torch.device(device_name)\n",
    "\n",
    "# define all agents\n",
    "randomPlayer = RandomAgent()\n",
    "negaMax = NegaMaxAgent(env, 2)\n",
    "human = HumanAgent()\n",
    "\n",
    "\n",
    "dt = DTAgent(state_dim=42,\n",
    "            act_dim=1,\n",
    "            n_blocks=4,\n",
    "            hidden_dim=128,\n",
    "            context_len=10,\n",
    "            n_heads=2,\n",
    "            drop_p=0.1,\n",
    "            rtg_target = 10,\n",
    "            vocab_size = 7)\n",
    "\n",
    "path = 'DecisionTransformer/dt_training/dt_Connect4_batch_size=64_context_len=10_n_blocks=4_hidden_dim=128_n_heads=2_model_23-02-28-17-54-34_80000.pt'\n",
    "dt.model.load_state_dict(torch.load(path, device))\n",
    "\n",
    "dqn = DQNAgent(n_actions = 7, lr = 1e-4, replay_size = 1)\n",
    "path = 'DQN/final_dqn_against_negaMaxMix/DQN_AgainstNegaMax_Epochs20000_player1.pth'\n",
    "dqn.policy_net.load_state_dict(torch.load(path, device))\n",
    "path = 'DQN/final_dqn_against_negaMaxMix/DQN_AgainstNegaMax_Epochs20000_player2.pth'\n",
    "dqn.policy_net2.load_state_dict(torch.load(path, device))"
   ]
  },
  {
   "cell_type": "code",
   "execution_count": null,
   "id": "8f3dbdb1",
   "metadata": {
    "scrolled": true
   },
   "outputs": [],
   "source": [
    "# select your agents\n",
    "# draw = visualization with pygame\n",
    "# render = visualization in output\n",
    "# draw > render\n",
    "env.playGame(dqn, dt, draw = True, render = False)"
   ]
  },
  {
   "cell_type": "code",
   "execution_count": null,
   "id": "05100e00",
   "metadata": {},
   "outputs": [],
   "source": []
  }
 ],
 "metadata": {
  "kernelspec": {
   "display_name": "Python 3 (ipykernel)",
   "language": "python",
   "name": "python3"
  },
  "language_info": {
   "codemirror_mode": {
    "name": "ipython",
    "version": 3
   },
   "file_extension": ".py",
   "mimetype": "text/x-python",
   "name": "python",
   "nbconvert_exporter": "python",
   "pygments_lexer": "ipython3",
   "version": "3.8.15"
  }
 },
 "nbformat": 4,
 "nbformat_minor": 5
}
