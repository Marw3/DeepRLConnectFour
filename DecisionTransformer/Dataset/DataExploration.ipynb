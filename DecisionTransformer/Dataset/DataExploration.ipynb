{
 "cells": [
  {
   "cell_type": "markdown",
   "id": "c1f686ab",
   "metadata": {},
   "source": [
    "## Data exploration\n",
    "\n",
    "---\n",
    "\n",
    "> Internship neural networks\n",
    ">\n",
    "> Group 4: Reinforcement learning\n",
    ">\n",
    "> Deadline 28.02.23 23:59\n",
    "\n",
    "---"
   ]
  },
  {
   "cell_type": "code",
   "execution_count": null,
   "id": "293621ff",
   "metadata": {},
   "outputs": [],
   "source": [
    "import numpy as np\n",
    "from tqdm import tqdm"
   ]
  },
  {
   "cell_type": "code",
   "execution_count": null,
   "id": "80e1cc30",
   "metadata": {},
   "outputs": [],
   "source": [
    "%run \"../../utils/utils.ipynb\""
   ]
  },
  {
   "cell_type": "markdown",
   "id": "5521d8cc",
   "metadata": {},
   "source": [
    "# Read Dataset"
   ]
  },
  {
   "cell_type": "code",
   "execution_count": null,
   "id": "d6e529cf",
   "metadata": {},
   "outputs": [],
   "source": [
    "# read the dataset that you want to explore\n",
    "path = \"RandomAgentVsRandomAgentDataset\"\n",
    "#path = \"NegaMaxAgentVsRandomAgentDataset\"\n",
    "#path = \"NegaMaxAgentVsNegaMaxAgentDataset\"\n",
    "dataset = read_list(path)"
   ]
  },
  {
   "cell_type": "markdown",
   "id": "e2f97f0e",
   "metadata": {},
   "source": [
    "# Check for duplicates and remove them"
   ]
  },
  {
   "cell_type": "code",
   "execution_count": null,
   "id": "eee90cbe",
   "metadata": {
    "scrolled": true
   },
   "outputs": [],
   "source": [
    "# list of duplicates\n",
    "duplist = []\n",
    "lenDs = len(dataset)\n",
    "pbar = tqdm(total=len(dataset))\n",
    "i = 0\n",
    "while i < lenDs:\n",
    "    for j in range(i+1, lenDs):\n",
    "        # only need to check for trajectories with same length\n",
    "        if len(dataset[i][\"observations\"]) == len(dataset[j][\"observations\"]):\n",
    "            isDuplicate = True\n",
    "            for k in range(len(dataset[i][\"observations\"])):\n",
    "                # if one obs is not the same -> different trajectories\n",
    "                if not np.array_equal(dataset[i][\"observations\"][k], dataset[j][\"observations\"][k]):\n",
    "                    isDuplicate = False\n",
    "                    break\n",
    "            if isDuplicate:\n",
    "                duplist.append(j)\n",
    "    # in reverse to don't change the indices\n",
    "    for index in sorted(duplist, reverse=True):\n",
    "        del dataset[index]\n",
    "    # reset duplist\n",
    "    duplist = []\n",
    "    lenDs = len(dataset)\n",
    "    i += 1\n",
    "    pbar.update(1)\n",
    "pbar.close()                    \n",
    "write_list(dataset, path + \"WithoutDups\")\n",
    "print(\"Length of dataset without duplicates: \", len(dataset))"
   ]
  },
  {
   "cell_type": "markdown",
   "id": "3888e5f3",
   "metadata": {},
   "source": [
    "### Results:\n",
    " #### RandomAgentVsRandomAgentDataset\n",
    " - Size of 100.000 samples\n",
    " - Remaining size after removing duplicates is 99.898\n",
    " - --> 102 duplicates\n",
    "  #### NegaMaxAgentVsRandomAgentDataset\n",
    " - Size of 100.000 samples\n",
    " - Remaining size after removing duplicates is 77.311\n",
    " - --> 22.689 duplicates\n",
    " #### NegaMaxAgentVsNegaMaxAgentDataset\n",
    " - Size of 50.000 samples\n",
    " - Remaining size after removing duplicates is 37.727\n",
    " - -->  duplicates 12.273"
   ]
  },
  {
   "cell_type": "markdown",
   "id": "69cf98cd",
   "metadata": {},
   "source": [
    "# Checking win, lose and draw ratio as player1 and player2"
   ]
  },
  {
   "cell_type": "code",
   "execution_count": null,
   "id": "ad97dfa0",
   "metadata": {},
   "outputs": [],
   "source": [
    "# read datasets without dups\n",
    "path = \"RandomAgentVsRandomAgentDatasetWithoutDups\"\n",
    "#path = \"NegaMaxAgentVsRandomAgentDatasetWithoutDups\"\n",
    "#path = \"NegaMaxAgentVsNegaMaxAgentDatasetWithoutDups\"\n",
    "dataset = read_list(path)"
   ]
  },
  {
   "cell_type": "code",
   "execution_count": null,
   "id": "4ab9b329",
   "metadata": {},
   "outputs": [],
   "source": [
    "board_height = 6\n",
    "board_width = 7\n",
    "start_state = np.zeros([board_height, board_width], dtype=np.int8).flatten()\n",
    "\n",
    "wins_p1 = 0\n",
    "wins_p2 = 0\n",
    "loses_p1 = 0\n",
    "loses_p2 = 0\n",
    "draws_p1 = 0\n",
    "draws_p2 = 0\n",
    "for i in range(len(dataset)):\n",
    "    if np.array_equal(dataset[i][\"observations\"][0], start_state):\n",
    "        if dataset[i][\"rtgs\"][0] == 10:\n",
    "            wins_p1 += 1\n",
    "        elif dataset[i][\"rtgs\"][0] == -10:\n",
    "            loses_p1 += 1\n",
    "        else:\n",
    "            draws_p1 += 1\n",
    "    else:\n",
    "        if dataset[i][\"rtgs\"][0] == 10:\n",
    "            wins_p2 += 1\n",
    "        elif dataset[i][\"rtgs\"][0] == -10:\n",
    "            loses_p2 += 1\n",
    "        else:\n",
    "            draws_p2 += 1\n",
    "            \n",
    "print(\"Wins as player1: \", wins_p1)\n",
    "print(\"Wins as player2: \", wins_p2)\n",
    "print(\"Loses as player1: \", loses_p1)\n",
    "print(\"Loses as player2: \", loses_p2)\n",
    "print(\"Draws as player1: \", draws_p1)\n",
    "print(\"Draws as player2: \", draws_p2)\n",
    "print(\"Number of games: \", wins_p1 + wins_p2 + loses_p1 + loses_p2 + draws_p1 + draws_p2)"
   ]
  },
  {
   "cell_type": "markdown",
   "id": "9dfa9d7b",
   "metadata": {},
   "source": [
    "### Results\n",
    " #### RandomAgentVsRandomAgentDataset\n",
    " - Wins as player1:  27659\n",
    " - Wins as player2:  22187\n",
    " - Loses as player1:  22099\n",
    " - Loses as player2:  27690\n",
    " - Draws as player1:  140\n",
    " - Draws as player2:  123\n",
    " - Number of games:  99898\n",
    " #### NegaMaxAgentVsRandomAgentDataset\n",
    " - Wins as player1:  34208\n",
    " - Wins as player2:  42036\n",
    " - Loses as player1:  57\n",
    " - Loses as player2:  969\n",
    " - Draws as player1:  38\n",
    " - Draws as player2:  3\n",
    " - Number of games:  77311\n",
    " #### NegaMaxAgentVsNegaMaxAgentDataset\n",
    " - Wins as player1:  10351\n",
    " - Wins as player2:  6725\n",
    " - Loses as player1:  6579\n",
    " - Loses as player2:  10420\n",
    " - Draws as player1:  1755\n",
    " - Draws as player2:  1897\n",
    " - Number of games:  37727"
   ]
  },
  {
   "cell_type": "code",
   "execution_count": null,
   "id": "f7fc66ec",
   "metadata": {},
   "outputs": [],
   "source": []
  }
 ],
 "metadata": {
  "kernelspec": {
   "display_name": "PDNN",
   "language": "python",
   "name": "pdnn"
  },
  "language_info": {
   "codemirror_mode": {
    "name": "ipython",
    "version": 3
   },
   "file_extension": ".py",
   "mimetype": "text/x-python",
   "name": "python",
   "nbconvert_exporter": "python",
   "pygments_lexer": "ipython3",
   "version": "3.8.15"
  }
 },
 "nbformat": 4,
 "nbformat_minor": 5
}
