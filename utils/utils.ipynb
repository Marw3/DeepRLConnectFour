{
 "cells": [
  {
   "cell_type": "code",
   "execution_count": 1,
   "id": "c9f56c7d",
   "metadata": {},
   "outputs": [],
   "source": [
    "import pickle"
   ]
  },
  {
   "cell_type": "code",
   "execution_count": 2,
   "id": "4530f155",
   "metadata": {},
   "outputs": [],
   "source": [
    "# Python code to store list to file using pickle module\n",
    "# write list to binary file\n",
    "def write_list(dataset, path):\n",
    "    # store list in binary file so 'wb' mode\n",
    "    with open(path, 'wb') as fp:\n",
    "        pickle.dump(dataset, fp)\n",
    "        print('Done writing list into a binary file')\n",
    "\n",
    "# Read list to memory\n",
    "def read_list(path):\n",
    "    # for reading also binary mode is important\n",
    "    with open(path, 'rb') as fp:\n",
    "        n_list = pickle.load(fp)\n",
    "        return n_list"
   ]
  }
 ],
 "metadata": {
  "kernelspec": {
   "display_name": "Python 3 (ipykernel)",
   "language": "python",
   "name": "python3"
  },
  "language_info": {
   "codemirror_mode": {
    "name": "ipython",
    "version": 3
   },
   "file_extension": ".py",
   "mimetype": "text/x-python",
   "name": "python",
   "nbconvert_exporter": "python",
   "pygments_lexer": "ipython3",
   "version": "3.8.15"
  }
 },
 "nbformat": 4,
 "nbformat_minor": 5
}
